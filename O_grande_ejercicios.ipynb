{
 "cells": [
  {
   "attachments": {},
   "cell_type": "markdown",
   "metadata": {},
   "source": [
    "**1.Encuentrar la complejidad de tiempo de los siguientes algoritmos:**\n",
    "\n",
    "a) \n",
    "for i in range(n):\n",
    "    print(i)\n",
    "    \n",
    "b)\n",
    "for i in range(n):\n",
    "    for j in range(n):\n",
    "        print(i, j)\n",
    "    \n",
    "c)\n",
    "for i in range(n):\n",
    "    for j in range(n):\n",
    "        for k in range(n):\n",
    "            print(i, j, k)\n",
    "\n",
    "Solucion\n",
    "\n",
    "a)\n",
    "La complejidad del algoritmo para el mejor de los casos es de O(1) y para el peor de los casos es\n",
    "O(n) , ya que la entrada de datos es lineal\n",
    "\n",
    "b) \n",
    "La complejidad de tiempo del algoritmo en el mejor de los casos es O(1) ya que tan solo debe recorrer\n",
    "una sola vez la lista 1 ( O(1) ) y una sola vez la lista 2 ( O (2) ) , y ya que la notación O , toma el\n",
    "peor caso , la complejidad es O(1)\n",
    "Para el peor de los casos para la lista 1 y 2 se deberia recorrer hasta su tamaño total , esto quiere decir\n",
    "n veces  ,O(n), por lo cual su complejidad seria O(n^2) \n",
    "\n",
    "c)\n",
    "la complejidad en el peor de los casos es O(n^3) ya que recorre (imprime) un total de n veces por lista\n",
    "por lo cual n x n x n"
   ]
  },
  {
   "attachments": {},
   "cell_type": "markdown",
   "metadata": {},
   "source": [
    "**2.Implementa un algoritmo para encontrar el máximo de una lista de números enteros. ¿Cuál es su complejidad de tiempo?**"
   ]
  },
  {
   "cell_type": "code",
   "execution_count": null,
   "metadata": {},
   "outputs": [],
   "source": [
    "def n_mayor(numeros:list)->int:\n",
    "    numero_mayor=numeros[0]\n",
    "    for n in range(1,len(numeros)):\n",
    "        if numeros[n]>numero_mayor:\n",
    "            numero_mayor=numeros[n]\n",
    "    return numero_mayor\n",
    "\n",
    "x=[1,2,3,80,5,56]\n",
    "print(n_mayor(x))"
   ]
  },
  {
   "attachments": {},
   "cell_type": "markdown",
   "metadata": {},
   "source": [
    "La complejidad de tiempo del algoritmo es **O(n)** en el peor de los casos , ya que debe recorrer\n",
    "la lista de tamaño n-1 , realizando la comparacion con n elementos y n veces . la asignación de la \n",
    "variable \"numero_mayor\" tiene un costo de O(1) lo cual no afecta el tiempo en la notación O"
   ]
  },
  {
   "attachments": {},
   "cell_type": "markdown",
   "metadata": {},
   "source": [
    "**3.Implementa un algoritmo para calcular la suma de los primeros n números enteros primos. ¿Cuál es su complejidad de tiempo?**\n"
   ]
  },
  {
   "cell_type": "code",
   "execution_count": 6,
   "metadata": {},
   "outputs": [
    {
     "data": {
      "text/plain": [
       "0"
      ]
     },
     "execution_count": 6,
     "metadata": {},
     "output_type": "execute_result"
    }
   ],
   "source": [
    "def suma_primos(n:int)->int:\n",
    "    sumatoria=0\n",
    "    primos=0\n",
    "    numero=2\n",
    "    while primos==5:\n",
    "        divisores=0\n",
    "        for j in range(1,numero+1):\n",
    "            if numero%j==0:\n",
    "                divisores+=1\n",
    "        if divisores==2:\n",
    "            primos+=1\n",
    "            sumatoria+=numero\n",
    "        numero+=1\n",
    "    return sumatoria\n",
    "\n",
    "suma_primos(5)"
   ]
  }
 ],
 "metadata": {
  "kernelspec": {
   "display_name": "Python 3",
   "language": "python",
   "name": "python3"
  },
  "language_info": {
   "codemirror_mode": {
    "name": "ipython",
    "version": 3
   },
   "file_extension": ".py",
   "mimetype": "text/x-python",
   "name": "python",
   "nbconvert_exporter": "python",
   "pygments_lexer": "ipython3",
   "version": "3.10.7"
  },
  "orig_nbformat": 4
 },
 "nbformat": 4,
 "nbformat_minor": 2
}
