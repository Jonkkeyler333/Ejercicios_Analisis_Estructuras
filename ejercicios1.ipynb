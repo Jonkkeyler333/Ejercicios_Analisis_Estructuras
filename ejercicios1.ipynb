{
 "cells": [
  {
   "attachments": {},
   "cell_type": "markdown",
   "metadata": {},
   "source": [
    "*Ejercicios*<br>\n",
    "Realizar el algoritmo y calcular su complejidad"
   ]
  },
  {
   "attachments": {},
   "cell_type": "markdown",
   "metadata": {},
   "source": [
    "Algoritmo que ordena una lista de n elementos usando el algoritmo de selección"
   ]
  },
  {
   "cell_type": "code",
   "execution_count": 31,
   "metadata": {},
   "outputs": [
    {
     "name": "stdout",
     "output_type": "stream",
     "text": [
      "[12, 24, 32, 67]\n"
     ]
    }
   ],
   "source": [
    "def ordenar_seleccion(l1:list)->list:\n",
    "    for j in range(len(l1)):\n",
    "        menor=j\n",
    "        for i in range(j+1,len(l1)):\n",
    "            if l1[i]<l1[menor]:\n",
    "                menor=i\n",
    "        # temp=l1[j]\n",
    "        # l1[j]=l1[menor]\n",
    "        # l1[menor]=temp   ## de manera tradicional\n",
    "        l1[j],l1[menor]=l1[menor],l1[j]\n",
    "    return l1\n",
    "     \n",
    "if __name__==\"__main__\":\n",
    "    x=[32,67,12,24]\n",
    "    print(ordenar_seleccion(x))"
   ]
  },
  {
   "attachments": {},
   "cell_type": "markdown",
   "metadata": {},
   "source": [
    "Algoritmo que ordena una lista de n elementos usando el algoritmo de burbuja"
   ]
  },
  {
   "cell_type": "code",
   "execution_count": 40,
   "metadata": {},
   "outputs": [
    {
     "name": "stdout",
     "output_type": "stream",
     "text": [
      "[12, 24, 32, 67]\n"
     ]
    }
   ],
   "source": [
    "def ordenar_burbuja(x:list)->list:\n",
    "    for j in range(len(x)):\n",
    "        for i in range(0,len(x)-j-1):\n",
    "            if x[i]>x[i+1]:\n",
    "                x[i],x[i+1]=x[i+1],x[i]\n",
    "    return x\n",
    "\n",
    "if __name__==\"__main__\":\n",
    "    x=[32,67,12,24]\n",
    "    print(ordenar_burbuja(x))"
   ]
  }
 ],
 "metadata": {
  "kernelspec": {
   "display_name": "Python 3",
   "language": "python",
   "name": "python3"
  },
  "language_info": {
   "codemirror_mode": {
    "name": "ipython",
    "version": 3
   },
   "file_extension": ".py",
   "mimetype": "text/x-python",
   "name": "python",
   "nbconvert_exporter": "python",
   "pygments_lexer": "ipython3",
   "version": "3.10.7"
  },
  "orig_nbformat": 4
 },
 "nbformat": 4,
 "nbformat_minor": 2
}
